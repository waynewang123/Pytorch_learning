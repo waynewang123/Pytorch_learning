{
 "cells": [
  {
   "cell_type": "code",
   "execution_count": 22,
   "id": "de64659a",
   "metadata": {},
   "outputs": [],
   "source": [
    "import pandas as pd\n",
    "import numpy as np\n",
    "import torch\n",
    "import torch.nn as nn\n",
    "\n"
   ]
  },
  {
   "cell_type": "markdown",
   "id": "8cb533c6",
   "metadata": {},
   "source": [
    "## Components of training a model\n",
    "training a model can be described like:<br>\n",
    "    1.we get data -pairs of questions and answers<br>\n",
    "    2.for a pair(x,y) we run x through model to get the model's answer y hat<br>\n",
    "    3.then a teacher gives a model a grade based on how wrong y hat is<br>\n",
    "    4.based on the grade, we figurte out who;s fault the error is<br>\n",
    "    5.then we fix the fault so the model can do better next tiem<br>\n",
    "    "
   ]
  },
  {
   "cell_type": "markdown",
   "id": "ad036c7f",
   "metadata": {},
   "source": [
    "Dataset class is used to process data and load single pairs (x,y)<br>\n",
    "Data loader class uses your dataset class to get single pairs and group them into batches<br>"
   ]
  },
  {
   "cell_type": "code",
   "execution_count": 4,
   "id": "7f75c96e",
   "metadata": {},
   "outputs": [
    {
     "ename": "SyntaxError",
     "evalue": "unexpected EOF while parsing (<ipython-input-4-4c6c48f6d8bf>, line 13)",
     "output_type": "error",
     "traceback": [
      "\u001b[0;36m  File \u001b[0;32m\"<ipython-input-4-4c6c48f6d8bf>\"\u001b[0;36m, line \u001b[0;32m13\u001b[0m\n\u001b[0;31m    def __len__(self):\u001b[0m\n\u001b[0m                      ^\u001b[0m\n\u001b[0;31mSyntaxError\u001b[0m\u001b[0;31m:\u001b[0m unexpected EOF while parsing\n"
     ]
    }
   ],
   "source": [
    "class MyDataset(data.Dataset):\n",
    "    def __init__(self,X,Y):\n",
    "        \"\"\"\n",
    "        use __init__ to load the data to the class\n",
    "        or process so it can be access later\n",
    "        \"\"\"\n",
    "        self.X = X\n",
    "        self.Y = Y\n",
    "    \n",
    "    def __len__(self):\n",
    "        \"\"\"\"\n",
    "        pytorch will use __len__ to know how many (x,y)\n",
    "        pairs are in your dataset\n",
    "        \"\"\"\n",
    "        return len(self.Y)\n",
    "    \n",
    "    def __getitem__(self,index):\n",
    "        \"\"\"\n",
    "        After using len to get how many sampels there are, pytorch will use \n",
    "        _getitem__ to ask for certain sample,so getitem(i) should return the ith\n",
    "        sample,you should use igtem to do some final processing before it's sent out\n",
    "        caution: getitem will be called many times so you should do as little work in\n",
    "        this step and try to keep heavy work at __init__ since it is only called once\n",
    "        \"\"\"\n",
    "        X = self.X(index).float().reshape(-1) #flatten the input\n",
    "        Y = self.Y(index).long()\n",
    "        return X,Y\n",
    "    "
   ]
  },
  {
   "cell_type": "code",
   "execution_count": 11,
   "id": "fc542d93",
   "metadata": {},
   "outputs": [],
   "source": [
    "#pytorch model更多是看图说话\n",
    "class our_model(nn.Module):\n",
    "    def __init__(self):\n",
    "        super().__init__()\n",
    "        self.layer1 = nn.Linear(3,4)\n",
    "        self.layer2 = nn.Linear(4,4)\n",
    "        self.layer3 = nn.Linear(4,1)\n",
    "    def forward(self,x):\n",
    "        \"\"\"\n",
    "        remember each nn.Linear has trainable parameters, by calling\n",
    "        parameters() on your mode you will see theweight and bias of each layer\n",
    "        thanks to the magic backend\n",
    "        \"\"\"\n",
    "        out = self.layer1(x)\n",
    "        out = self.layer2(out)\n",
    "        out = self.layer3(out)\n",
    "        return out\n",
    "    "
   ]
  },
  {
   "cell_type": "code",
   "execution_count": 15,
   "id": "dd8026f9",
   "metadata": {},
   "outputs": [
    {
     "name": "stdout",
     "output_type": "stream",
     "text": [
      "our_model(\n",
      "  (layer1): Linear(in_features=3, out_features=4, bias=True)\n",
      "  (layer2): Linear(in_features=4, out_features=4, bias=True)\n",
      "  (layer3): Linear(in_features=4, out_features=1, bias=True)\n",
      ")\n"
     ]
    }
   ],
   "source": [
    "model = our_model()\n",
    "print(model)"
   ]
  },
  {
   "cell_type": "markdown",
   "id": "45fae1b8",
   "metadata": {},
   "source": [
    "after you have the model, you need to put the model on device and\n",
    "set the model mode, either train or eval"
   ]
  },
  {
   "cell_type": "markdown",
   "id": "3f07c94f",
   "metadata": {},
   "source": [
    "### Before the model training, set model.train() to tell the model save gradients \n",
    "### when validating or testing, set model.eval() to tell the model doesn't need save gradient(save time and memory)"
   ]
  },
  {
   "cell_type": "code",
   "execution_count": 24,
   "id": "6148017a",
   "metadata": {},
   "outputs": [],
   "source": [
    "device = 'cuda' if torch.cuda.is_available() else 'cpu'\n",
    "num_epochs = 10\n",
    "criterion = nn.CrossEntropyLoss()\n",
    "optimizer = optim.Adam(model.parameters(),lr = 3e-4) #we initiaze the"
   ]
  },
  {
   "cell_type": "code",
   "execution_count": 27,
   "id": "bbbeca2c",
   "metadata": {},
   "outputs": [
    {
     "ename": "NameError",
     "evalue": "name 'DataLoader' is not defined",
     "output_type": "error",
     "traceback": [
      "\u001b[0;31m---------------------------------------------------------------------------\u001b[0m",
      "\u001b[0;31mNameError\u001b[0m                                 Traceback (most recent call last)",
      "\u001b[0;32m<ipython-input-27-6ddd7320ddb2>\u001b[0m in \u001b[0;36m<module>\u001b[0;34m\u001b[0m\n\u001b[0;32m----> 1\u001b[0;31m \u001b[0mtrain_loader\u001b[0m \u001b[0;34m=\u001b[0m \u001b[0mDataLoader\u001b[0m\u001b[0;34m(\u001b[0m\u001b[0mdataset\u001b[0m\u001b[0;34m=\u001b[0m\u001b[0mtrain_dataset\u001b[0m\u001b[0;34m,\u001b[0m \u001b[0mbatch_size\u001b[0m\u001b[0;34m=\u001b[0m\u001b[0mbatch_size\u001b[0m\u001b[0;34m,\u001b[0m \u001b[0mshuffle\u001b[0m\u001b[0;34m=\u001b[0m\u001b[0;32mTrue\u001b[0m\u001b[0;34m)\u001b[0m\u001b[0;34m\u001b[0m\u001b[0;34m\u001b[0m\u001b[0m\n\u001b[0m\u001b[1;32m      2\u001b[0m \u001b[0;31m#test_loader = DataLoader(dataset=test_dataset, batch_size=batch_size, shuffle=True)\u001b[0m\u001b[0;34m\u001b[0m\u001b[0;34m\u001b[0m\u001b[0;34m\u001b[0m\u001b[0m\n",
      "\u001b[0;31mNameError\u001b[0m: name 'DataLoader' is not defined"
     ]
    }
   ],
   "source": [
    "train_loader = DataLoader(dataset=train_dataset, batch_size=batch_size, shuffle=True)\n",
    "#test_loader = DataLoader(dataset=test_dataset, batch_size=batch_size, shuffle=True)"
   ]
  },
  {
   "cell_type": "code",
   "execution_count": 26,
   "id": "a7111f83",
   "metadata": {},
   "outputs": [
    {
     "ename": "NameError",
     "evalue": "name 'train_loader' is not defined",
     "output_type": "error",
     "traceback": [
      "\u001b[0;31m---------------------------------------------------------------------------\u001b[0m",
      "\u001b[0;31mNameError\u001b[0m                                 Traceback (most recent call last)",
      "\u001b[0;32m<ipython-input-26-bb0751a810a3>\u001b[0m in \u001b[0;36m<module>\u001b[0;34m\u001b[0m\n\u001b[1;32m      2\u001b[0m \u001b[0;32mfor\u001b[0m \u001b[0mepch\u001b[0m \u001b[0;32min\u001b[0m \u001b[0mrange\u001b[0m\u001b[0;34m(\u001b[0m\u001b[0mnum_epochs\u001b[0m\u001b[0;34m)\u001b[0m\u001b[0;34m:\u001b[0m\u001b[0;34m\u001b[0m\u001b[0;34m\u001b[0m\u001b[0m\n\u001b[1;32m      3\u001b[0m     \u001b[0mmodel\u001b[0m\u001b[0;34m.\u001b[0m\u001b[0mtrain\u001b[0m\u001b[0;34m(\u001b[0m\u001b[0;34m)\u001b[0m\u001b[0;34m\u001b[0m\u001b[0;34m\u001b[0m\u001b[0m\n\u001b[0;32m----> 4\u001b[0;31m     \u001b[0;32mfor\u001b[0m \u001b[0;34m(\u001b[0m\u001b[0mx\u001b[0m\u001b[0;34m,\u001b[0m\u001b[0my\u001b[0m\u001b[0;34m)\u001b[0m \u001b[0;32min\u001b[0m \u001b[0mtrain_loader\u001b[0m\u001b[0;34m:\u001b[0m\u001b[0;34m\u001b[0m\u001b[0;34m\u001b[0m\u001b[0m\n\u001b[0m\u001b[1;32m      5\u001b[0m         \"\"\"\n\u001b[1;32m      6\u001b[0m         \u001b[0mwhat\u001b[0m \u001b[0;32mis\u001b[0m \u001b[0mzero\u001b[0m \u001b[0mgrad\u001b[0m\u001b[0;31m?\u001b[0m\u001b[0;34m\u001b[0m\u001b[0;34m\u001b[0m\u001b[0m\n",
      "\u001b[0;31mNameError\u001b[0m: name 'train_loader' is not defined"
     ]
    }
   ],
   "source": [
    "##training\n",
    "for epch in range(num_epochs):\n",
    "    model.train()\n",
    "    for (x,y) in train_loader:\n",
    "        \"\"\"\n",
    "        what is zero grad?\n",
    "        every call to backward saves gradient  for each paramters in the model\n",
    "        however call optimizer.step() does not delete the gradients after using them,\n",
    "        so you want to remove them before you hading the gtradients of next sample\n",
    "        \"\"\"\n",
    "        optimizer.zero_grad()\n",
    "        \n",
    "        x = x.to(device)\n",
    "        y = y.to(device)\n",
    "        #forward\n",
    "        output = model(x)\n",
    "        loss = criterion(output,y)\n",
    "        #backward\n",
    "        loss.backward()\n",
    "        # by doing optimizer step, we update the weights of the model\n",
    "        # by using the computed gradients\n",
    "        optimizer.step()\n",
    "        \n",
    "        \"\"\"\n",
    "        To summarize\n",
    "        we run x through model\n",
    "        we compute the loss\n",
    "        we call loss backward\n",
    "        we step the optimizer\n",
    "        then in this loop or next, we zero out the gradient\n",
    "        \"\"\"\n",
    "        "
   ]
  },
  {
   "cell_type": "markdown",
   "id": "a4ee50f6",
   "metadata": {},
   "source": [
    "### After here, you would generally perform validation (after every epoch or a couple), to see how your model performs on data it is not trained on.\n",
    "### Validation follows a similar format as training, but without loss.backward() or optimizer.step(). You should check the notebooks for more guidance."
   ]
  },
  {
   "cell_type": "code",
   "execution_count": null,
   "id": "6d3bd5b9",
   "metadata": {},
   "outputs": [],
   "source": []
  }
 ],
 "metadata": {
  "kernelspec": {
   "display_name": "Python 3.8.8 64-bit ('base': conda)",
   "language": "python",
   "name": "python388jvsc74a57bd040d3a090f54c6569ab1632332b64b2c03c39dcf918b08424e98f38b5ae0af88f"
  },
  "language_info": {
   "codemirror_mode": {
    "name": "ipython",
    "version": 3
   },
   "file_extension": ".py",
   "mimetype": "text/x-python",
   "name": "python",
   "nbconvert_exporter": "python",
   "pygments_lexer": "ipython3",
   "version": "3.8.8"
  }
 },
 "nbformat": 4,
 "nbformat_minor": 5
}
